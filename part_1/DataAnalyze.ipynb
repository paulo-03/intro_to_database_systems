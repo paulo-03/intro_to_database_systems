{
 "cells": [
  {
   "cell_type": "markdown",
   "metadata": {},
   "source": [
    "# Analyse .csv files\n",
    "The following lines of code will help us to understand the .csv files. "
   ]
  },
  {
   "cell_type": "code",
   "execution_count": 1,
   "metadata": {},
   "outputs": [],
   "source": [
    "import pandas as pd\n",
    "\n",
    "# Read the .csv files\n",
    "buisness = pd.read_csv(r'/Users/pauloribeiro/Desktop/EPFL/Master Data Science/Passerelle 2/Intro To Database/Project/Part A/Data/yelp-csv/yelp_academic_dataset_business.csv')\n",
    "review = pd.read_csv(r'/Users/pauloribeiro/Desktop/EPFL/Master Data Science/Passerelle 2/Intro To Database/Project/Part A/Data/yelp-csv/yelp_academic_dataset_review.csv')\n",
    "tip = pd.read_csv(r'/Users/pauloribeiro/Desktop/EPFL/Master Data Science/Passerelle 2/Intro To Database/Project/Part A/Data/yelp-csv/yelp_academic_dataset_tip.csv')\n",
    "user = pd.read_csv(r'/Users/pauloribeiro/Desktop/EPFL/Master Data Science/Passerelle 2/Intro To Database/Project/Part A/Data/yelp-csv/yelp_academic_dataset_user.csv')"
   ]
  },
  {
   "cell_type": "markdown",
   "metadata": {},
   "source": [
    "### Buisness file"
   ]
  },
  {
   "cell_type": "code",
   "execution_count": 2,
   "metadata": {
    "jupyter": {
     "source_hidden": true
    }
   },
   "outputs": [
    {
     "data": {
      "text/html": [
       "<div>\n",
       "<style scoped>\n",
       "    .dataframe tbody tr th:only-of-type {\n",
       "        vertical-align: middle;\n",
       "    }\n",
       "\n",
       "    .dataframe tbody tr th {\n",
       "        vertical-align: top;\n",
       "    }\n",
       "\n",
       "    .dataframe thead th {\n",
       "        text-align: right;\n",
       "    }\n",
       "</style>\n",
       "<table border=\"1\" class=\"dataframe\">\n",
       "  <thead>\n",
       "    <tr style=\"text-align: right;\">\n",
       "      <th></th>\n",
       "      <th>address</th>\n",
       "      <th>attributes</th>\n",
       "      <th>business_id</th>\n",
       "      <th>categories</th>\n",
       "      <th>city</th>\n",
       "      <th>hours</th>\n",
       "      <th>is_open</th>\n",
       "      <th>latitude</th>\n",
       "      <th>longitude</th>\n",
       "      <th>name</th>\n",
       "      <th>postal_code</th>\n",
       "      <th>review_count</th>\n",
       "      <th>stars</th>\n",
       "      <th>state</th>\n",
       "    </tr>\n",
       "  </thead>\n",
       "  <tbody>\n",
       "    <tr>\n",
       "      <th>0</th>\n",
       "      <td>2818 E Camino Acequia Drive</td>\n",
       "      <td>{}</td>\n",
       "      <td>1SWheh84yJXfytovILXOAQ</td>\n",
       "      <td>Golf, Active Life</td>\n",
       "      <td>Phoenix</td>\n",
       "      <td>NaN</td>\n",
       "      <td>0</td>\n",
       "      <td>33.522143</td>\n",
       "      <td>-112.018481</td>\n",
       "      <td>Arizona Biltmore Golf Club</td>\n",
       "      <td>85016</td>\n",
       "      <td>5</td>\n",
       "      <td>3.0</td>\n",
       "      <td>AZ</td>\n",
       "    </tr>\n",
       "    <tr>\n",
       "      <th>1</th>\n",
       "      <td>30 Eglinton Avenue W</td>\n",
       "      <td>{'GoodForMeal': \"{'dessert': False, 'latenight...</td>\n",
       "      <td>QXAEGFB4oINsVuTFxEYKFQ</td>\n",
       "      <td>Specialty Food, Restaurants, Dim Sum, Imported...</td>\n",
       "      <td>Mississauga</td>\n",
       "      <td>{'Monday': '9:0-0:0', 'Tuesday': '9:0-0:0', 'W...</td>\n",
       "      <td>1</td>\n",
       "      <td>43.605499</td>\n",
       "      <td>-79.652289</td>\n",
       "      <td>Emerald Chinese Restaurant</td>\n",
       "      <td>L5R 3E7</td>\n",
       "      <td>128</td>\n",
       "      <td>2.5</td>\n",
       "      <td>ON</td>\n",
       "    </tr>\n",
       "    <tr>\n",
       "      <th>2</th>\n",
       "      <td>1210 8th Street SW, Unit 220</td>\n",
       "      <td>{'BusinessParking': \"{'garage': False, 'street...</td>\n",
       "      <td>fcXOEZdXYeZqnQ3lGlOXmg</td>\n",
       "      <td>Local Services, Professional Services, Compute...</td>\n",
       "      <td>Calgary</td>\n",
       "      <td>{'Monday': '9:0-17:0', 'Tuesday': '9:0-17:0', ...</td>\n",
       "      <td>1</td>\n",
       "      <td>51.041771</td>\n",
       "      <td>-114.081109</td>\n",
       "      <td>Nucleus Information Service</td>\n",
       "      <td>T2R 1L3</td>\n",
       "      <td>5</td>\n",
       "      <td>2.0</td>\n",
       "      <td>AB</td>\n",
       "    </tr>\n",
       "  </tbody>\n",
       "</table>\n",
       "</div>"
      ],
      "text/plain": [
       "                        address  \\\n",
       "0   2818 E Camino Acequia Drive   \n",
       "1          30 Eglinton Avenue W   \n",
       "2  1210 8th Street SW, Unit 220   \n",
       "\n",
       "                                          attributes             business_id  \\\n",
       "0                                                 {}  1SWheh84yJXfytovILXOAQ   \n",
       "1  {'GoodForMeal': \"{'dessert': False, 'latenight...  QXAEGFB4oINsVuTFxEYKFQ   \n",
       "2  {'BusinessParking': \"{'garage': False, 'street...  fcXOEZdXYeZqnQ3lGlOXmg   \n",
       "\n",
       "                                          categories         city  \\\n",
       "0                                  Golf, Active Life      Phoenix   \n",
       "1  Specialty Food, Restaurants, Dim Sum, Imported...  Mississauga   \n",
       "2  Local Services, Professional Services, Compute...      Calgary   \n",
       "\n",
       "                                               hours  is_open   latitude  \\\n",
       "0                                                NaN        0  33.522143   \n",
       "1  {'Monday': '9:0-0:0', 'Tuesday': '9:0-0:0', 'W...        1  43.605499   \n",
       "2  {'Monday': '9:0-17:0', 'Tuesday': '9:0-17:0', ...        1  51.041771   \n",
       "\n",
       "    longitude                         name postal_code  review_count  stars  \\\n",
       "0 -112.018481   Arizona Biltmore Golf Club       85016             5    3.0   \n",
       "1  -79.652289   Emerald Chinese Restaurant     L5R 3E7           128    2.5   \n",
       "2 -114.081109  Nucleus Information Service     T2R 1L3             5    2.0   \n",
       "\n",
       "  state  \n",
       "0    AZ  \n",
       "1    ON  \n",
       "2    AB  "
      ]
     },
     "execution_count": 2,
     "metadata": {},
     "output_type": "execute_result"
    }
   ],
   "source": [
    "buisness.head(3)"
   ]
  },
  {
   "cell_type": "code",
   "execution_count": 3,
   "metadata": {
    "jupyter": {
     "source_hidden": true
    }
   },
   "outputs": [
    {
     "name": "stdout",
     "output_type": "stream",
     "text": [
      "Number of row : 192609\n"
     ]
    }
   ],
   "source": [
    "print(f'Number of row : {buisness.shape[0]}')"
   ]
  },
  {
   "cell_type": "markdown",
   "metadata": {},
   "source": [
    "### Review file"
   ]
  },
  {
   "cell_type": "code",
   "execution_count": 4,
   "metadata": {
    "jupyter": {
     "source_hidden": true
    }
   },
   "outputs": [
    {
     "data": {
      "text/html": [
       "<div>\n",
       "<style scoped>\n",
       "    .dataframe tbody tr th:only-of-type {\n",
       "        vertical-align: middle;\n",
       "    }\n",
       "\n",
       "    .dataframe tbody tr th {\n",
       "        vertical-align: top;\n",
       "    }\n",
       "\n",
       "    .dataframe thead th {\n",
       "        text-align: right;\n",
       "    }\n",
       "</style>\n",
       "<table border=\"1\" class=\"dataframe\">\n",
       "  <thead>\n",
       "    <tr style=\"text-align: right;\">\n",
       "      <th></th>\n",
       "      <th>business_id</th>\n",
       "      <th>cool</th>\n",
       "      <th>date</th>\n",
       "      <th>funny</th>\n",
       "      <th>review_id</th>\n",
       "      <th>stars</th>\n",
       "      <th>text</th>\n",
       "      <th>useful</th>\n",
       "      <th>user_id</th>\n",
       "    </tr>\n",
       "  </thead>\n",
       "  <tbody>\n",
       "    <tr>\n",
       "      <th>0</th>\n",
       "      <td>WTqjgwHlXbSFevF32_DJVw</td>\n",
       "      <td>0</td>\n",
       "      <td>2016-11-09 20:09:03</td>\n",
       "      <td>0.0</td>\n",
       "      <td>2TzJjDVDEuAW6MR5Vuc1ug</td>\n",
       "      <td>5.0</td>\n",
       "      <td>I have to say that this office really has it t...</td>\n",
       "      <td>3.0</td>\n",
       "      <td>n6-Gk65cPZL6Uz8qRm3NYw</td>\n",
       "    </tr>\n",
       "    <tr>\n",
       "      <th>1</th>\n",
       "      <td>b1b1eb3uo-w561D0ZfCEiQ</td>\n",
       "      <td>0</td>\n",
       "      <td>2018-01-30 23:07:38</td>\n",
       "      <td>0.0</td>\n",
       "      <td>11a8sVPMUFtaC7_ABRkmtw</td>\n",
       "      <td>1.0</td>\n",
       "      <td>Today was my second out of three sessions I ha...</td>\n",
       "      <td>7.0</td>\n",
       "      <td>ssoyf2_x0EQMed6fgHeMyQ</td>\n",
       "    </tr>\n",
       "    <tr>\n",
       "      <th>2</th>\n",
       "      <td>3fw2X5bZYeW9xCz_zGhOHg</td>\n",
       "      <td>5</td>\n",
       "      <td>2016-05-07 01:21:02</td>\n",
       "      <td>4.0</td>\n",
       "      <td>G7XHMxG0bx9oBJNECG4IFg</td>\n",
       "      <td>3.0</td>\n",
       "      <td>Tracy dessert had a big name in Hong Kong and ...</td>\n",
       "      <td>5.0</td>\n",
       "      <td>jlu4CztcSxrKx56ba1a5AQ</td>\n",
       "    </tr>\n",
       "  </tbody>\n",
       "</table>\n",
       "</div>"
      ],
      "text/plain": [
       "              business_id  cool                 date  funny  \\\n",
       "0  WTqjgwHlXbSFevF32_DJVw     0  2016-11-09 20:09:03    0.0   \n",
       "1  b1b1eb3uo-w561D0ZfCEiQ     0  2018-01-30 23:07:38    0.0   \n",
       "2  3fw2X5bZYeW9xCz_zGhOHg     5  2016-05-07 01:21:02    4.0   \n",
       "\n",
       "                review_id  stars  \\\n",
       "0  2TzJjDVDEuAW6MR5Vuc1ug    5.0   \n",
       "1  11a8sVPMUFtaC7_ABRkmtw    1.0   \n",
       "2  G7XHMxG0bx9oBJNECG4IFg    3.0   \n",
       "\n",
       "                                                text  useful  \\\n",
       "0  I have to say that this office really has it t...     3.0   \n",
       "1  Today was my second out of three sessions I ha...     7.0   \n",
       "2  Tracy dessert had a big name in Hong Kong and ...     5.0   \n",
       "\n",
       "                  user_id  \n",
       "0  n6-Gk65cPZL6Uz8qRm3NYw  \n",
       "1  ssoyf2_x0EQMed6fgHeMyQ  \n",
       "2  jlu4CztcSxrKx56ba1a5AQ  "
      ]
     },
     "execution_count": 4,
     "metadata": {},
     "output_type": "execute_result"
    }
   ],
   "source": [
    "review.head(3)"
   ]
  },
  {
   "cell_type": "code",
   "execution_count": 5,
   "metadata": {
    "jupyter": {
     "source_hidden": true
    }
   },
   "outputs": [
    {
     "name": "stdout",
     "output_type": "stream",
     "text": [
      "Number of row : 918680\n"
     ]
    }
   ],
   "source": [
    "print(f'Number of row : {review.shape[0]}')"
   ]
  },
  {
   "cell_type": "markdown",
   "metadata": {},
   "source": [
    "### Tip file"
   ]
  },
  {
   "cell_type": "code",
   "execution_count": 6,
   "metadata": {
    "jupyter": {
     "source_hidden": true
    }
   },
   "outputs": [
    {
     "data": {
      "text/html": [
       "<div>\n",
       "<style scoped>\n",
       "    .dataframe tbody tr th:only-of-type {\n",
       "        vertical-align: middle;\n",
       "    }\n",
       "\n",
       "    .dataframe tbody tr th {\n",
       "        vertical-align: top;\n",
       "    }\n",
       "\n",
       "    .dataframe thead th {\n",
       "        text-align: right;\n",
       "    }\n",
       "</style>\n",
       "<table border=\"1\" class=\"dataframe\">\n",
       "  <thead>\n",
       "    <tr style=\"text-align: right;\">\n",
       "      <th></th>\n",
       "      <th>business_id</th>\n",
       "      <th>compliment_count</th>\n",
       "      <th>date</th>\n",
       "      <th>text</th>\n",
       "      <th>user_id</th>\n",
       "    </tr>\n",
       "  </thead>\n",
       "  <tbody>\n",
       "    <tr>\n",
       "      <th>0</th>\n",
       "      <td>VaKXUpmWTTWDKbpJ3aQdMw</td>\n",
       "      <td>0</td>\n",
       "      <td>2014-03-27 03:51:24</td>\n",
       "      <td>Great for watching games, ufc, and whatever el...</td>\n",
       "      <td>UPw5DWs_b-e2JRBS-t37Ag</td>\n",
       "    </tr>\n",
       "    <tr>\n",
       "      <th>1</th>\n",
       "      <td>OPiPeoJiv92rENwbq76orA</td>\n",
       "      <td>0</td>\n",
       "      <td>2013-05-25 06:00:56</td>\n",
       "      <td>Happy Hour 2-4 daily with 1/2 price drinks and...</td>\n",
       "      <td>Ocha4kZBHb4JK0lOWvE0sg</td>\n",
       "    </tr>\n",
       "    <tr>\n",
       "      <th>2</th>\n",
       "      <td>5KheTjYPu1HcQzQFtm4_vw</td>\n",
       "      <td>0</td>\n",
       "      <td>2011-12-26 01:46:17</td>\n",
       "      <td>Good chips and salsa. Loud at times. Good serv...</td>\n",
       "      <td>jRyO2V1pA4CdVVqCIOPc1Q</td>\n",
       "    </tr>\n",
       "  </tbody>\n",
       "</table>\n",
       "</div>"
      ],
      "text/plain": [
       "              business_id  compliment_count                 date  \\\n",
       "0  VaKXUpmWTTWDKbpJ3aQdMw                 0  2014-03-27 03:51:24   \n",
       "1  OPiPeoJiv92rENwbq76orA                 0  2013-05-25 06:00:56   \n",
       "2  5KheTjYPu1HcQzQFtm4_vw                 0  2011-12-26 01:46:17   \n",
       "\n",
       "                                                text                 user_id  \n",
       "0  Great for watching games, ufc, and whatever el...  UPw5DWs_b-e2JRBS-t37Ag  \n",
       "1  Happy Hour 2-4 daily with 1/2 price drinks and...  Ocha4kZBHb4JK0lOWvE0sg  \n",
       "2  Good chips and salsa. Loud at times. Good serv...  jRyO2V1pA4CdVVqCIOPc1Q  "
      ]
     },
     "execution_count": 6,
     "metadata": {},
     "output_type": "execute_result"
    }
   ],
   "source": [
    "tip.head(3)"
   ]
  },
  {
   "cell_type": "code",
   "execution_count": 7,
   "metadata": {
    "jupyter": {
     "source_hidden": true
    }
   },
   "outputs": [
    {
     "name": "stdout",
     "output_type": "stream",
     "text": [
      "Number of row : 1029047\n"
     ]
    }
   ],
   "source": [
    "print(f'Number of row : {tip.shape[0]}')"
   ]
  },
  {
   "cell_type": "markdown",
   "metadata": {},
   "source": [
    "### User file"
   ]
  },
  {
   "cell_type": "code",
   "execution_count": 8,
   "metadata": {
    "jupyter": {
     "source_hidden": true
    }
   },
   "outputs": [
    {
     "data": {
      "text/html": [
       "<div>\n",
       "<style scoped>\n",
       "    .dataframe tbody tr th:only-of-type {\n",
       "        vertical-align: middle;\n",
       "    }\n",
       "\n",
       "    .dataframe tbody tr th {\n",
       "        vertical-align: top;\n",
       "    }\n",
       "\n",
       "    .dataframe thead th {\n",
       "        text-align: right;\n",
       "    }\n",
       "</style>\n",
       "<table border=\"1\" class=\"dataframe\">\n",
       "  <thead>\n",
       "    <tr style=\"text-align: right;\">\n",
       "      <th></th>\n",
       "      <th>average_stars</th>\n",
       "      <th>compliment_cool</th>\n",
       "      <th>compliment_cute</th>\n",
       "      <th>compliment_funny</th>\n",
       "      <th>compliment_hot</th>\n",
       "      <th>compliment_list</th>\n",
       "      <th>compliment_more</th>\n",
       "      <th>compliment_note</th>\n",
       "      <th>compliment_photos</th>\n",
       "      <th>compliment_plain</th>\n",
       "      <th>...</th>\n",
       "      <th>cool</th>\n",
       "      <th>elite</th>\n",
       "      <th>fans</th>\n",
       "      <th>friends</th>\n",
       "      <th>funny</th>\n",
       "      <th>name</th>\n",
       "      <th>review_count</th>\n",
       "      <th>useful</th>\n",
       "      <th>user_id</th>\n",
       "      <th>yelping_since</th>\n",
       "    </tr>\n",
       "  </thead>\n",
       "  <tbody>\n",
       "    <tr>\n",
       "      <th>0</th>\n",
       "      <td>4.03</td>\n",
       "      <td>1</td>\n",
       "      <td>0</td>\n",
       "      <td>1</td>\n",
       "      <td>2</td>\n",
       "      <td>0</td>\n",
       "      <td>0</td>\n",
       "      <td>1</td>\n",
       "      <td>0</td>\n",
       "      <td>1</td>\n",
       "      <td>...</td>\n",
       "      <td>25</td>\n",
       "      <td>2015,2016,2017</td>\n",
       "      <td>5</td>\n",
       "      <td>['wSByVbwME4MzgkJaFyfvNg', 'cpQmAgOWatghp14h1p...</td>\n",
       "      <td>17</td>\n",
       "      <td>Rashmi</td>\n",
       "      <td>95</td>\n",
       "      <td>84</td>\n",
       "      <td>l6BmjZMeQD3rDxWUbiAiow</td>\n",
       "      <td>2013-10-08 23:11:33</td>\n",
       "    </tr>\n",
       "    <tr>\n",
       "      <th>1</th>\n",
       "      <td>3.63</td>\n",
       "      <td>1</td>\n",
       "      <td>0</td>\n",
       "      <td>1</td>\n",
       "      <td>1</td>\n",
       "      <td>0</td>\n",
       "      <td>0</td>\n",
       "      <td>0</td>\n",
       "      <td>0</td>\n",
       "      <td>0</td>\n",
       "      <td>...</td>\n",
       "      <td>16</td>\n",
       "      <td>NaN</td>\n",
       "      <td>4</td>\n",
       "      <td>['xh9VekYUo5CgVBxySQ70Tw', 'L3Z-WvSvYXvTf-lzST...</td>\n",
       "      <td>22</td>\n",
       "      <td>Jenna</td>\n",
       "      <td>33</td>\n",
       "      <td>48</td>\n",
       "      <td>4XChL029mKr5hydo79Ljxg</td>\n",
       "      <td>2013-02-21 22:29:06</td>\n",
       "    </tr>\n",
       "    <tr>\n",
       "      <th>2</th>\n",
       "      <td>3.71</td>\n",
       "      <td>0</td>\n",
       "      <td>0</td>\n",
       "      <td>0</td>\n",
       "      <td>0</td>\n",
       "      <td>0</td>\n",
       "      <td>0</td>\n",
       "      <td>1</td>\n",
       "      <td>0</td>\n",
       "      <td>0</td>\n",
       "      <td>...</td>\n",
       "      <td>10</td>\n",
       "      <td>NaN</td>\n",
       "      <td>0</td>\n",
       "      <td>['1IQ_d1RuMj8iIpcF2CDohA', 'lwhksSpgIyeYZor_Hl...</td>\n",
       "      <td>8</td>\n",
       "      <td>David</td>\n",
       "      <td>16</td>\n",
       "      <td>28</td>\n",
       "      <td>bc8C_eETBWL0olvFSJJd0w</td>\n",
       "      <td>2013-10-04 00:16:10</td>\n",
       "    </tr>\n",
       "  </tbody>\n",
       "</table>\n",
       "<p>3 rows × 22 columns</p>\n",
       "</div>"
      ],
      "text/plain": [
       "   average_stars  compliment_cool  compliment_cute  compliment_funny  \\\n",
       "0           4.03                1                0                 1   \n",
       "1           3.63                1                0                 1   \n",
       "2           3.71                0                0                 0   \n",
       "\n",
       "   compliment_hot  compliment_list  compliment_more  compliment_note  \\\n",
       "0               2                0                0                1   \n",
       "1               1                0                0                0   \n",
       "2               0                0                0                1   \n",
       "\n",
       "   compliment_photos  compliment_plain  ...  cool           elite  fans  \\\n",
       "0                  0                 1  ...    25  2015,2016,2017     5   \n",
       "1                  0                 0  ...    16             NaN     4   \n",
       "2                  0                 0  ...    10             NaN     0   \n",
       "\n",
       "                                             friends  funny    name  \\\n",
       "0  ['wSByVbwME4MzgkJaFyfvNg', 'cpQmAgOWatghp14h1p...     17  Rashmi   \n",
       "1  ['xh9VekYUo5CgVBxySQ70Tw', 'L3Z-WvSvYXvTf-lzST...     22   Jenna   \n",
       "2  ['1IQ_d1RuMj8iIpcF2CDohA', 'lwhksSpgIyeYZor_Hl...      8   David   \n",
       "\n",
       "   review_count useful                 user_id        yelping_since  \n",
       "0            95     84  l6BmjZMeQD3rDxWUbiAiow  2013-10-08 23:11:33  \n",
       "1            33     48  4XChL029mKr5hydo79Ljxg  2013-02-21 22:29:06  \n",
       "2            16     28  bc8C_eETBWL0olvFSJJd0w  2013-10-04 00:16:10  \n",
       "\n",
       "[3 rows x 22 columns]"
      ]
     },
     "execution_count": 8,
     "metadata": {},
     "output_type": "execute_result"
    }
   ],
   "source": [
    "user.head(3)"
   ]
  },
  {
   "cell_type": "code",
   "execution_count": 9,
   "metadata": {
    "jupyter": {
     "source_hidden": true
    }
   },
   "outputs": [
    {
     "name": "stdout",
     "output_type": "stream",
     "text": [
      "Number of row : 778651\n"
     ]
    }
   ],
   "source": [
    "print(f'Number of row : {user.shape[0]}')"
   ]
  },
  {
   "cell_type": "markdown",
   "metadata": {},
   "source": [
    "### Analyze the Data\n",
    "\n",
    "Now that we have better seen and understood the construction of the data, we can analyze it. Let's have a look first at the buisness' attribute named \"attributes\", \"address\" and \"friends\". "
   ]
  },
  {
   "cell_type": "code",
   "execution_count": 10,
   "metadata": {},
   "outputs": [
    {
     "name": "stdin",
     "output_type": "stream",
     "text": [
      "Enter the name of the attribute in your current set that you are interested for: attributes\n"
     ]
    },
    {
     "name": "stdout",
     "output_type": "stream",
     "text": [
      "Different types of data in attributes : \n",
      " [<class 'str'>, <class 'float'>] \n",
      "\n",
      "All sub-attributes that appears in attributes (6): \n",
      " [\"'GoodForMeal'\", \"'BusinessParking'\", \"'NoiseLevel'\", \"'Ambience'\", \"'Music'\", \"'DietaryRestrictions'\"]\n"
     ]
    }
   ],
   "source": [
    "curr_set = buisness\n",
    "look_at = input('Enter the name of the attribute in your current set that you are interested for:')\n",
    "atts = curr_set[look_at]\n",
    "\n",
    "#Here we go through the data to check the types of it.\n",
    "types = []\n",
    "for att in atts:\n",
    "    if type(att) in types:\n",
    "        pass\n",
    "    else:\n",
    "        types.append(type(att))\n",
    "\n",
    "#We see that in our data we have two types of data given. It will be our mission to clean that\n",
    "#and return only one type. (DATA CLEANING)\n",
    "print(f\"Different types of data in {look_at} : \\n\", types, \"\\n\")\n",
    "\n",
    "#Let's clean the words (remove all the \", ', {, ...)\n",
    "def CleanWord(DirtyWord: str):\n",
    "    return DirtyWord.translate({ord(i): None for i in '\"{:}'})\n",
    "\n",
    "# We have seen that all attributes begin with a capital. So we extract all of them with this \"cheat\".\n",
    "all_att = []\n",
    "for att in atts:\n",
    "    if type(att) == str :\n",
    "        for word in att.split():\n",
    "            for i in range(len(word)):\n",
    "                if word[i].isupper() and not(\"False\" in word) and not(\"True\" in word) and not(\"None\" in word):\n",
    "                    if CleanWord(word) in all_att:\n",
    "                        pass\n",
    "                    else:\n",
    "                        all_att.append(CleanWord(word))\n",
    "\n",
    "print(f'All sub-attributes that appears in {look_at} ({len(all_att)}): \\n', all_att,)"
   ]
  },
  {
   "cell_type": "code",
   "execution_count": 11,
   "metadata": {},
   "outputs": [
    {
     "name": "stdout",
     "output_type": "stream",
     "text": [
      "True -> record found : nan \n",
      "Not every business has its adress in the Yelp! dataset.\n"
     ]
    }
   ],
   "source": [
    "#Prove that not every businesses have an address recorded.\n",
    "atts = buisness[\"address\"]\n",
    "\n",
    "for att in atts:\n",
    "    if type(att) == float:\n",
    "        print(True, f\"-> record found : {att}\", \"\\nNot every business has its adress in the Yelp! dataset.\")\n",
    "        break"
   ]
  },
  {
   "cell_type": "code",
   "execution_count": 12,
   "metadata": {},
   "outputs": [
    {
     "name": "stdout",
     "output_type": "stream",
     "text": [
      "True -> record found : nan \n",
      "Not every business has its attributes in the Yelp! dataset.\n"
     ]
    }
   ],
   "source": [
    "#Prove that not every businesses have an \"attributes\" values recorded.\n",
    "atts = buisness[\"attributes\"]\n",
    "\n",
    "for att in atts:\n",
    "    if type(att) == float:\n",
    "        print(True, f\"-> record found : {att}\", \"\\nNot every business has its attributes in the Yelp! dataset.\")\n",
    "        break"
   ]
  },
  {
   "cell_type": "code",
   "execution_count": 13,
   "metadata": {},
   "outputs": [
    {
     "name": "stdin",
     "output_type": "stream",
     "text": [
      "Enter the name of the attribute in your current set that you are interested for: friends\n"
     ]
    },
    {
     "name": "stdout",
     "output_type": "stream",
     "text": [
      "Everyone is friend with at least one person\n"
     ]
    }
   ],
   "source": [
    "curr_set = user\n",
    "look_at = input('Enter the name of the attribute in your current set that you are interested for:')\n",
    "atts = curr_set[look_at]\n",
    "stop = 5 #print the 5 first user with no friends.\n",
    "\n",
    "for i in range(len(atts)):\n",
    "    if len(atts[i])>0 and len(atts[i])<26: #26 is the length of someone with one friend.\n",
    "        stop -= 1\n",
    "        print(atts[i], i)\n",
    "        print(user[\"user_id\"][i])\n",
    "        print(\"\\n\")\n",
    "        \n",
    "        if stop == 0 : #allow to stop the loop after 5 prints.\n",
    "            break\n",
    "    else:\n",
    "        pass\n",
    "    \n",
    "if stop == 5: #means that no one has no friend\n",
    "    print(\"Everyone is friend with at least one person\")"
   ]
  }
 ],
 "metadata": {
  "kernelspec": {
   "display_name": "Python 3",
   "language": "python",
   "name": "python3"
  },
  "language_info": {
   "codemirror_mode": {
    "name": "ipython",
    "version": 3
   },
   "file_extension": ".py",
   "mimetype": "text/x-python",
   "name": "python",
   "nbconvert_exporter": "python",
   "pygments_lexer": "ipython3",
   "version": "3.8.3"
  }
 },
 "nbformat": 4,
 "nbformat_minor": 4
}
